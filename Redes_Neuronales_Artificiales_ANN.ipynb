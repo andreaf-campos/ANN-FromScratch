{
 "cells": [
  {
   "cell_type": "markdown",
   "metadata": {},
   "source": [
    "# Redes Neuronales Artificiales *(ANN)*: Explicación con ejemplos\n",
    "\n",
    "## [Parte 1: Datos y Arquitectura]\n",
    "\n",
    "¿Qué tal si queremos predecir qué calificación tendremos en base a la cantidad de horas que dormimos y estudiamos?\n",
    "Tenemos los datos y haremos un modelo que nos ayude a predecir qué tan bien nos irá en el examen en base al número de horas de sueño y estudio.\n",
    "\n",
    "__Problema de Regresión Supervisada__\n",
    "\n",
    ">Es supervisado porque sus ejemplos tienen inputs y outputs; y es una regresión porque estamos prediciendo un test score, que es un output continuo (1 al 100). \n",
    ">>Si por el contrario se estuviera prediciendo la calificación de letra (A, B, C, D) entonces el problema sería de clasificación.\n",
    "\n",
    "En ML hay muchos modelos, pero aquí usaremos una red neuronal artificial (*Artificial Neural Network o ANN*). Se basan básicamente en el funcionamiento de las neuronas y han sido usadas para problemas pesados de clasificación, como: \n",
    "1. Clasificación de Imágenes\n",
    "2. Procesamiento natural del lenguaje"
   ]
  },
  {
   "cell_type": "code",
   "execution_count": 38,
   "metadata": {},
   "outputs": [],
   "source": [
    "import matplotlib.pyplot as plt\n",
    "import numpy as np\n",
    "from scipy import optimize"
   ]
  },
  {
   "cell_type": "code",
   "execution_count": 2,
   "metadata": {},
   "outputs": [
    {
     "name": "stdout",
     "output_type": "stream",
     "text": [
      "Sleeping hours, studying hours = [[ 3.  5.]\n",
      " [ 5.  1.]\n",
      " [10.  2.]]\n",
      "-----------------------\n",
      "Grades = [[75.]\n",
      " [82.]\n",
      " [93.]]\n"
     ]
    }
   ],
   "source": [
    "#Horas de sueño, Horas de estudio  / Sleeping hours, studying hours\n",
    "x= np.array(([3,5],[5,1], [10,2]), dtype=float)\n",
    "\n",
    "#Calificaciones / Grades\n",
    "y= np.array(([75],[82],[93]), dtype=float)\n",
    "\n",
    "print(f\"Sleeping hours, studying hours = {x}\")\n",
    "print(\"-----------------------\")\n",
    "print(f\"Grades = {y}\")"
   ]
  },
  {
   "cell_type": "markdown",
   "metadata": {},
   "source": [
    "Antes de hacer el modelo, tenemos que tomar en cuenta que las unidades de nuestro ejemplo son distintas. La X tiene valores en horas y la Y en una fracción de calificación que va de 0 a 100.\n",
    "Vamos a __escalar__ el data (Scale) -> Para estandarizar las unidades.\n",
    "Para hacerlo vamos a tomar en cuenta que toda nuestra data es positiva y que puede dividirse entre el valor maximo de X y de Y, lo que efectivamente escalará nuestros datos entre 0 y 1. "
   ]
  },
  {
   "cell_type": "code",
   "execution_count": 3,
   "metadata": {},
   "outputs": [],
   "source": [
    "x= x/np.amax(x, axis=0)  #Esto se podría re-escalear con un maximo de 24 hrs (?), eje 0 columna, eje 1 renglones\n",
    "#Broadcasting= habilidad para acoplar cosas de distintos tamaños. Dividir un array de 2,3 entre algo de 2,1\n",
    "#Si le diera algo de 3, entonces se haria una division de cada renglon/numero\n",
    "y= y/100 #La maxima calificacion es 100"
   ]
  },
  {
   "cell_type": "code",
   "execution_count": 4,
   "metadata": {},
   "outputs": [
    {
     "name": "stdout",
     "output_type": "stream",
     "text": [
      "Scaled x = [[0.3 1. ]\n",
      " [0.5 0.2]\n",
      " [1.  0.4]]\n"
     ]
    }
   ],
   "source": [
    "print(f\"Scaled x = {x}\")"
   ]
  },
  {
   "cell_type": "code",
   "execution_count": 5,
   "metadata": {},
   "outputs": [
    {
     "name": "stdout",
     "output_type": "stream",
     "text": [
      "Scaled y = [[0.75]\n",
      " [0.82]\n",
      " [0.93]]\n"
     ]
    }
   ],
   "source": [
    "print(f\"Scaled y = {y}\")"
   ]
  },
  {
   "cell_type": "markdown",
   "metadata": {},
   "source": [
    "Ahora es hora de hacer nuestra red. Sabemos que debemos tener dos inputs (Horas de sueño y Horas de estudio) para obtener un output estimado (y = Calificación).\n",
    "Cualquier capa entre nuestros inputs y outputs se llaman capas escondidas (*Hidden Layers*). Se han creado redes con muchas capas escondidas que se conocen como: **Deep Belief Networks**, que llevaron a la creación del término **Deep Learning**.\n",
    "\n",
    "<img src=\"ANN1.png\" width=\"600\" height=\"300\">\n",
    "\n",
    "Nuestra red tendrá una capa oculta con 3 unidades, dichas unidades, en las redes neuronales, son conocidas como **neuronas**. Y las conexiones representan **sinapsis**. Si se quisiera hacer una red profunda, agregaríamos más de una capa.\n",
    "\n",
    "<img src=\"ANN2.png\" width=\"650\" height=\"325\">\n",
    "                                       \n",
    "Las sinapsis tienen un trabajo muy sencillo, toman cierto input y lo multiplican por cierto peso dando como resultado un output que pasa a la siguiente unidad (neurona). \n",
    "\n",
    "<table><tr>\n",
    "<td> <img src=\"ANN3.png\" alt=\"Drawing\" style=\"width: 325px;\"/> </td>\n",
    "<td> <img src=\"ANN4.png\" alt=\"Drawing\" style=\"width: 350px;\"/> </td>\n",
    "</tr></table>\n",
    "\n",
    "Las neuronas son mas complicadas. Su trabajo es sumar los outputs de todas sus sinapis (X1, X2, X3... Xn) y aplicar una función de activación. Ciertas funciones de activacion le permiten a las redes neuronales modelar ciertos comportamientos no-lineales complejos. Para nuestro modelo usaremos funciones de activación sigmoidales. \n",
    "1. *Activity*\n",
    "2. *Activation*\n",
    "\n",
    "<table><tr>\n",
    "<td> <img src=\"ANN5.png\" alt=\"Drawing\" style=\"width: 400px;\"/> </td>\n",
    "<td> <img src=\"ANN6.png\" alt=\"Drawing\" style=\"width: 325px;\"/> </td>\n",
    "</tr></table>"
   ]
  },
  {
   "cell_type": "markdown",
   "metadata": {},
   "source": [
    "## [Parte 2: Propagación hacia adelante]\n",
    "##### Forward Propagation\n",
    "\n",
    "Vamos a crear nuestra red como una clase de Python (**Python class**).\n",
    "Y el metodo **init** se va a encargar de instanciar constantes y variables importantes. \n",
    "Haremos que esos valores sean accesibles a toda la clase al ponerle **\"self\"** enfrente de cada nombre de la variable.\n",
    ">Nuestra red tiene dos inputs, tres unidades ocultas y un output. Estos son ejemplos de **HIPERPARÁMETROS**\n",
    "\n",
    "Los **hiperparámetros** son constantes que establecen la estructura y el comportamiento de nuestra red, pero no se actualizan mientras entrenamos a la red.\n",
    "Nuestro **algoritmo de aprendizaje** no es capaz de decidir que necesita de otra unidad oculta, por ejemplo. Esto es algo que debemos decidir antes del entrenamiento. \n",
    "\n",
    ">Lo que las redes neuronales si aprenden son los parámetros, específicamente, aprenden los **pesos** de las sinapsis.\n",
    "\n",
    "<img src=\"ANN7.png\" width=\"300\" height=\"350\">\n",
    "\n",
    "Vamos a encargarnos de mover nuestros datos a través de la red con un método llamado *forward*. Esto lo que hace es que en lugar de pasar nuestros inputs a través de la red uno a la vez, se usan matrices para pasar mútliples inputs a la vez. Esto permite una gran optimización computacional.\n",
    "\n",
    "La dimension de nuestra matriz X es de 3,2; mientras que nuestra data de salida Y tiene una dimension de 3,1.\n",
    "\n",
    "<img src=\"ANN8.png\" width=\"350\" height=\"300\">\n",
    "\n",
    "Cada valor input o elemento de la matriz X debe multiplicarse por un peso correspondiente y luego sumarse con los otros resultados por cada neurona. \n",
    "\n",
    "<img src=\"ANN9.png\" width=\"400\" height=\"200\">\n",
    "\n",
    "Esto es una operación complicada, pero si tomamos los tres outputs que estamos buscando (uno por unidad/neurona) como un renglon de una matriz y arreglamos todos los pesos individuales en una matriz de pesos, podemos crear el exacto comportamiento que necesitamos al multiplicar nuestra matriz X de inputs por nuestra matriz de pesos. Esto nos deja pasar múltiples inputs a la vez simplemente al añadir nuevas filas a la matriz X. \n",
    "\n",
    "<img src=\"ANN10.png\" width = \"900\"> \n",
    "\n",
    ">De ahora en adelante, la matriz de inputs se llamará X, la de pesos se llamará W(1) y la matriz de la actividad de la segunda capa de nuestra red se llamará Z(2). \n",
    "\n",
    "<img src=\"ANN11.png\" width =\"600\"> \n",
    "\n",
    "Hay que notar que cada entrada en Z(2) es una suma de entradas ponderadas a cada neurona. Z tiene un tamaño de 3x3: una fila por cada ejemplo y una columna por cada unidad oculta/neurona. Con esto ya tenemos nuestra primer fórmula oficial: \n",
    "\n",
    "$$Z^{(2)} = XW^{(1)}$$ \n",
    "\n",
    "Ahora que ya tenemos la formula de la actividad de nuestra segunda capa, debemos aplicar nuestra función de activación. Aplicaremos individualmente la función de activación a cada entrada de la matriz Z usando un metodo en python llamado *sigmoid*, porque estamos usando una sigmoide como función de activación. \n",
    "\n",
    "<table><tr>\n",
    "<td> <img src=\"ANN12.png\" alt=\"Drawing\" style=\"width: 300px;\"/> </td>\n",
    "<td> <img src=\"ANN13.png\" alt=\"Drawing\" style=\"width: 325px;\"/> </td>\n",
    "</tr></table>\n",
    "\n",
    "Aquí es muy cool usar NumPy porque podemos meterle un escalar, un vector o una matriz y numpy aplicará la función sigmoid elemento a elemento (element-wise) y regresará un resultado de la misma dimensión de la que entró. \n",
    "\n",
    ">Ahora tenemos nuestra segunda fórmula para la propagación hacia adelante (forward propagation). Usando *f* para denotar nuestra función de activación, podemos escribir a(2) como la actividad de la segunda capa:\n",
    "\n",
    "$$a^{(2)} = f(Z^{(2)})$$\n",
    "\n",
    "<br>Y a(2) será una matriz del mismo tamaño de Z(2), es decir, de 3x3. \n",
    "\n",
    "Para terminar la propagación hacia adelante (forward propagation), debemos propagar a2 hasta nuestro output $\\hat{y}$. Y esto se hace solo al multiplicar a2 por los pesos de nuestra segunda capa W(2) y aplicar una función de activación más. \n",
    "\n",
    "<center><img src=\"ANN14.png\" width=\"300\"></center>\n",
    "\n",
    "<br>W(2) es de tamaño 3,1: un peso por cada sinapsis, la fórmula queda así:\n",
    "\n",
    "$$Z^{(3)} = a^{(2)}W^{(2)}$$\n",
    "\n",
    "<br>Donde Z(3) es la actividad de nuestra capa 3, y es una matriz de 3,1, ya que surge de la mutiplicación de a(2) con dimensión 3x3 y W(2) de dimensión 3x1. Estos tres valores de actividad corresponden a uno por cada ejemplo en X.\n",
    "\n",
    "Finalmente, aplicaremos nuestra función de activación a Z(3) para obtener nuestro estimado oficial de calificación $\\hat{y}$:\n",
    "\n",
    "$$\\hat{y} = f(Z^{(3)})$$\n",
    "<br>\n",
    "<center><img src=\"ANN15.png\" width=\"300\"></center>"
   ]
  },
  {
   "cell_type": "code",
   "execution_count": 6,
   "metadata": {},
   "outputs": [],
   "source": [
    "class Neural_Network(object):\n",
    "    def __init__(self):\n",
    "        #Definir Hiperparámetros / Hyperparameter definition\n",
    "        self.inputLayerSize= 2\n",
    "        self.outputLayerSize= 1\n",
    "        self.hiddenLayerSize= 3\n",
    "        \n",
    "        #Weights (Parámetros)\n",
    "        #Los valores son aleatorios\n",
    "        self.W1 = np.random.randn(self.inputLayerSize, \\\n",
    "                                  self.hiddenLayerSize)\n",
    "        self.W2 = np.random.randn(self.hiddenLayerSize, \\\n",
    "                                  self.outputLayerSize)\n",
    "        \n",
    "    def forward(self,x):\n",
    "        #Propagar los inputs a través de la red / Forward Propagation\n",
    "        self.z2= np.dot(x, self.W1)\n",
    "        self.a2= self.sigmoid(self.z2)\n",
    "        self.z3= np.dot(self.a2, self.W2)\n",
    "        yHat= self.sigmoid(self.z3)\n",
    "        \n",
    "        return yHat\n",
    "    \n",
    "    def sigmoid(self, z):\n",
    "        #Aplicar la funcion de activacion a un escalar, vector o matriz / Apply activation function\n",
    "        return 1/(1+np.exp(-z))"
   ]
  },
  {
   "cell_type": "code",
   "execution_count": 7,
   "metadata": {},
   "outputs": [],
   "source": [
    "#Definimos un objeto de la clase Neural_Network / Define object of the class Neural_Network\n",
    "NN= Neural_Network()"
   ]
  },
  {
   "cell_type": "code",
   "execution_count": 8,
   "metadata": {},
   "outputs": [
    {
     "data": {
      "image/png": "[encoded data removed]",
      "text/plain": [
       "<Figure size 640x480 with 1 Axes>"
      ]
     },
     "metadata": {},
     "output_type": "display_data"
    }
   ],
   "source": [
    "#Probamos la función de activacion sigmoid sobre inputs arbitrarios / Test of sigmoidal activation function\n",
    "testInput= np.arange(-6, 6, 0.01)\n",
    "plt.plot(testInput, NN.sigmoid(testInput), c=\"blue\", lw=2)\n",
    "plt.grid(1)"
   ]
  },
  {
   "cell_type": "code",
   "execution_count": 9,
   "metadata": {},
   "outputs": [
    {
     "name": "stdout",
     "output_type": "stream",
     "text": [
      "\n",
      "Predicted Y values are:\n",
      " [[0.50757541]\n",
      " [0.44533843]\n",
      " [0.47844032]] \n",
      "----------------------------------------------------\n",
      "\n",
      "Real Y values are:\n",
      " [[0.75]\n",
      " [0.82]\n",
      " [0.93]] \n",
      "----------------------------------------------------\n",
      "\n",
      "Difference between (yReal - yPred) is:\n",
      " [[0.24242459]\n",
      " [0.37466157]\n",
      " [0.45155968]] \n",
      "\n"
     ]
    }
   ],
   "source": [
    "#Probamos el método forward de nuestra clase sobre los datos reales de la matriz de inputs X (hrs sueño/estudio)\n",
    "#para predecir Y (Calificación)\n",
    "#Test of our forward propagation method with our real data of X (hrs sleep/study) to predict Y (grade)\n",
    "yHat= NN.forward(x)\n",
    "\n",
    "print(\"\\nPredicted Y values are:\\n\", yHat, \"\\n----------------------------------------------------\\n\")\n",
    "print(\"Real Y values are:\\n\", y, \"\\n----------------------------------------------------\\n\")\n",
    "print(\"Difference between (yReal - yPred) is:\\n\", y - yHat, \"\\n\")"
   ]
  },
  {
   "cell_type": "markdown",
   "metadata": {},
   "source": [
    "### Los estimados del modelo son muy malos porque aún no entrenamos la red!\n",
    "\n",
    "#### Prediction of the model is really bad because we haven't trained it yet!"
   ]
  },
  {
   "cell_type": "markdown",
   "metadata": {},
   "source": [
    "##  [Parte 3: Descenso por Gradiente]"
   ]
  },
  {
   "cell_type": "markdown",
   "metadata": {},
   "source": [
    "Para mejorar nuestro modelo primero debemos cuantificar el error de nuestras predicciones. Esto lo haremos mediante una **función de costo** que nos permite expresar que tan equivocado o costoso es nuestro modelo dado nuestros casos ejemplo. \n",
    "\n",
    "<img src=\"ANN16.png\" width=\"500\" >\n",
    "\n",
    "<br>Una forma de computar un costo es tomar cada valor de error ($y - \\hat{y}$), exponenciarlo al cuadrado y sumar todos los errores. \n",
    "\n",
    "$$J = cost = (y1 - \\hat{y}1)^2 + (y2 - \\hat{y}2)^2 + ... + (yn - \\hat{y}n)^2$$\n",
    "\n",
    "<br> Simplificando:\n",
    "$$J = \\sum \\frac{1}{2}e^2$$\n",
    "$$J = \\sum \\frac{1}{2}(y - \\hat{y})^2$$\n",
    "\n",
    "<br> Ahora que tebemos el valor del costo, nuestro trabajo es **minimizarlo**. Ya que:\n",
    "\n",
    "### Entrenar una red = Minimizar una función de costo\n",
    "\n",
    "El costo es la función de dos cosas: nuestros ejemplos y los pesos de nuestras sinapsis. Por esto, se minimiza el costo cambiando los **pesos**. Conceptualmente significa que debemos encontrar una combinación de pesos $W$ que reducirán nuestro costo $J$ lo más posible.\n",
    "<br><br> Lo que se podría hacer es probar todas las 9 combinaciones de $W$ hasta que hallemos la óptima, sin embargo, sufriríamos de la **maldición de la dimensionalidad**, ya que para encontrar la combinación precisa, deberíamos probar $1,000^9$ valores de combinaciones de $W$ lo que gastaría mucho tiempo (más tiempo de lo que lleva existiendo el Universo) y recursos. Por lo tanto, esté método de **\"Intentarlo Todo\"** u **\"Optimización Bruta\"** claramente no funcionará.\n",
    "<br> <br> Así que busquemos otro método más inteligente. Evaluemos la función de costo para un solo valor específico de W:"
   ]
  },
  {
   "cell_type": "code",
   "execution_count": 10,
   "metadata": {},
   "outputs": [
    {
     "name": "stderr",
     "output_type": "stream",
     "text": [
      "C:\\Users\\a.camposperez\\AppData\\Local\\Temp\\ipykernel_32036\\2462720705.py:7: DeprecationWarning: Conversion of an array with ndim > 0 to a scalar is deprecated, and will error in future. Ensure you extract a single element from your array before performing this operation. (Deprecated NumPy 1.25.)\n",
      "  costs[i]= 0.5* sum((y -yHat)**2)\n"
     ]
    }
   ],
   "source": [
    "weightsToTry= np.linspace(-10, 10, 1000)\n",
    "costs = np.zeros(1000)\n",
    "\n",
    "for i in range(len(weightsToTry)):\n",
    "    NN.W1[0,0]= weightsToTry[i]\n",
    "    yHat= NN.forward(x)\n",
    "    costs[i]= 0.5* sum((y -yHat)**2)"
   ]
  },
  {
   "cell_type": "code",
   "execution_count": 11,
   "metadata": {},
   "outputs": [
    {
     "data": {
      "text/plain": [
       "Text(0, 0.5, 'Cost')"
      ]
     },
     "execution_count": 11,
     "metadata": {},
     "output_type": "execute_result"
    },
    {
     "data": {
      "image/png": "[encoded data removed]",
      "text/plain": [
       "<Figure size 640x480 with 1 Axes>"
      ]
     },
     "metadata": {},
     "output_type": "display_data"
    }
   ],
   "source": [
    "plt.plot(weightsToTry, costs)\n",
    "plt.grid(1)\n",
    "plt.xlabel(\"Weight 1\")\n",
    "plt.ylabel(\"Cost\")"
   ]
  },
  {
   "cell_type": "code",
   "execution_count": 12,
   "metadata": {},
   "outputs": [],
   "source": [
    "NN.W1[0,0] = 1.1\n",
    "yHat = NN.forward(x)"
   ]
  },
  {
   "cell_type": "code",
   "execution_count": 13,
   "metadata": {},
   "outputs": [
    {
     "data": {
      "text/plain": [
       "array([0.15950996])"
      ]
     },
     "execution_count": 13,
     "metadata": {},
     "output_type": "execute_result"
    }
   ],
   "source": [
    "0.5*sum((y-yHat)**2)"
   ]
  },
  {
   "cell_type": "markdown",
   "metadata": {},
   "source": [
    "Esto no nos dice mucho, pero intentemos buscar más información, por ejemplo, averiguar que valor de W hace que el costo baje a partir del punto $W1 = 1.1$, es decir, cuál es el camino \"downhill\". \n",
    "\n",
    "<img src=\"ANN17.png\" width=\"350\" height=\"275\">\n",
    "\n",
    "<br> Para poder realizar esto, podemos pensar que nuestra función $J$ de costo es una ecuación grande conformada por las demás 4 ecuaciones que rigen a nuestra red:\n",
    "\n",
    "$$J = \\sum \\frac{1}{2}(y - f(f(XW^{(1)})W^{(2)}))^2$$\n",
    "\n",
    "<br>En base a estas ecuaciones queremos buscar cual es la tasa de cambio de $J$ con respecto a $$W^{(1)}$$ y $$W^{(2)}$$, es decir, la derivada: $$\\frac{dJ}{dW}$$. Sin embargo, en este caso estamos considerando un peso a la vez, por lo que es una derivada parcial: $$\\frac{\\partial{J}}{\\partial{W}}$$\n",
    "\n",
    "<br>Así, podemos encontrar la tasa de cambio de $J$ con respecto a $W$ para cualquier valor de $W$. Si es positivo el valor de la derivada entonces la función de costo está yendo hacia arriba, si es negativa va hacia abajo. \n",
    "\n",
    "<img src=\"ANN18.png\" width=\"400\" height=\"250\">\n",
    "\n",
    "De esta forma podemos acelerar el proceso ya que podemos saber en que dirección la función de costo disminuye. Podemos salvar aún más tiempo al tomar pasos de manera iterativa hacia abajo y detenernos cuando el costo deja de disminuir. \n",
    "\n",
    "<img src=\"ANN19.png\" width=\"400\" height=\"250\">\n",
    "\n",
    "<h3>Este método se conoce como Gradient Descent.</h3>\n"
   ]
  },
  {
   "cell_type": "markdown",
   "metadata": {},
   "source": [
    "Tiene una capacidad increíble de buscar valores óptimos de $W$ en altas dimensiones. De hecho, toma menos de 100 evaluaciones lograr lo que se lograría con $10^{27}$ evaluaciones mediante el método de \"Fuerza Bruta\".\n",
    "\n",
    "Su único reto es cuando las funciones de costo no van en una sola dirección, es decir, que ondulean hacia arriba y hacia abajo: son **No-Convexas**. En este caso, el algoritmo podría estancarse en un **Mínimo Local** en lugar del **Mínimo Global** ideal.\n",
    "\n",
    "<img src=\"ANN20.png\" height=\"150\">\n",
    "\n",
    "Una de las razones para elegir que la función de costo se expresara como la suma cuadrática de errores fue para explotar la naturaleza convexa de las ecuaciones cuadráticas (parábolas). De hecho, las versiones de alta dimensión de $f(x) = x^{2}$ también son convexas en el plano. \n",
    "\n",
    "<img src=\"ANN21.png\" width=\"400\">\n",
    "\n",
    "También hay variantes del algoritmo de **Gradient Descent** en los que el cómo usemos los valores $X$ ejemplo determinará la solución, inclusive cuando trabajamos con funciones de costo no-convexas. Esta variante se llama **Stochastic Gradient Descent**. \n",
    "\n",
    "En este caso usaremos la versión clásica del algoritmo, llamada **Batch Gradient Descent**, en la que se usan todos los valores de $X$ al mismo tiempo y la función de costo es convexa.\n",
    "\n",
    "<img src=\"ANN22.png\" width=\"500\">\n",
    "\n"
   ]
  },
  {
   "cell_type": "markdown",
   "metadata": {},
   "source": [
    "## [Parte 4: Propagación hacia atrás]\n",
    "##### Backpropagation\n",
    "Nosotros tenemos dos matrices de pesos: $W^{(1)}$ y $W^{(2)}$; por ende, calcularemos ambas derivadas parciales independientemente. Debemos tener tantos gradientes como valores de $W$, así que al final tendremos dos matrices con los mismos tamaños que las de $W^{(1)}$ y $W^{(2)}$.\n",
    "<table><tr>\n",
    "<td> <img src=\"ANN23.png\" alt=\"Drawing\" style=\"width: 400px;\"/> </td>\n",
    "<td> <img src=\"ANN24.png\" alt=\"Drawing\" style=\"width: 400px;\"/> </td>\n",
    "</tr></table>\n",
    "<br></br>\n",
    "\n",
    "> Las siguientes son las ecuaciones que nos permitirán actualizar las matrices de pesos de las capas de nuestra red ($W^{(1)}$ y $W^{(2)}$) eficientemente:\n",
    "\n",
    ">> Para calcular la tasa de cambio de $J$ con respecto a los pesos de la segunda capa ($W^{(2)}$) o gradiente, usamos:\n",
    "\n",
    "$$ \\frac{\\partial J}{\\partial W^{(2)}} = (a^{(2)})^T \\delta^{(3)} $$\n",
    "\n",
    "donde $a^{(2)}$ es la matriz de actividad de las sinapsis y $\\delta^{(3)}$ es nuestro error propagado hacia atrás,\n",
    "\n",
    "$$ \\delta^{(3)} = -(y - \\hat{y}) f'(z^{(3)}) $$\n",
    "\n",
    "En términos simples, cada instancia que nuestro algoritmo ve, tiene un costo y un gradiente. El gradiente de cada ejemplo \"jala\" nuestro algoritmo de Gradient descent en una dirección, por ende, cada instancia tiene un rol en qué dirección es cuesta abajo (down-hill). Al aplicar **Batch Gradient Descent**, sumamos el rol del gradiente de cada instancia, a al vector resultante lo tomamos como descenso y nos vemos en esa dirección. \n",
    "\n",
    "<table><tr>\n",
    "<td> <img src=\"ANN28.png\" alt=\"Drawing\" style=\"width: 325px;\"/> </td>\n",
    "<td> <img src=\"ANN29.png\" alt=\"Drawing\" style=\"width: 325px;\"/> </td>\n",
    "<td> <img src=\"ANN30.png\" alt=\"Drawing\" style=\"width: 325px;\"/> </td>\n",
    "</tr></table>\n",
    "\n",
    "<br></br>\n",
    ">> Para calcular la tasa de cambio de $J$ con respecto a los pesos de la primera capa ($W^{(1)}$) o gradiente, usamos:\n",
    "\n",
    "$$ \\frac{\\partial J}{\\partial W^{(1)}} = X^T \\delta^{(2)} $$\n",
    "\n",
    "<center>donde,</center>\n",
    "\n",
    "$$ \\delta^{(2)} = \\delta^{(3)} (W^{(2)})^T f'(z^{(2)}) $$\n",
    "\n",
    "\n",
    "***\n",
    "En terminos simples, con estos cálculos estamos propagando hacia atrás (**backpropagating**) el error a cada peso (Weight). Al multiplicar con la actividad en cada sinapsis, los pesos (W) que contribuyeron más al error total van a tener activaciones más grandes, dando como resultado valores más grandes de $\\frac{\\partial J}{\\partial W}$, y van a cambiar más al ejecutar el algoritmo de **Gradient Descent**. \n",
    "\n",
    "<table><tr>\n",
    "<td> <img src=\"ANN25.png\" alt=\"Drawing\" style=\"width: 325px;\"/> </td>\n",
    "<td> <img src=\"ANN26.png\" alt=\"Drawing\" style=\"width: 325px;\"/> </td>\n",
    "<td> <img src=\"ANN27.png\" alt=\"Drawing\" style=\"width: 325px;\"/> </td>\n",
    "</tr></table>"
   ]
  },
  {
   "cell_type": "code",
   "execution_count": 18,
   "metadata": {},
   "outputs": [],
   "source": [
    "def sigmoidPrime(self, z):\n",
    "    #Derivada de la funcion sigmoide / Derivative of Sigmoid Function (Gradient Sigmoid)\n",
    "    return np.exp(-z)/((1+np.exp(-z))**2)\n",
    "\n",
    "Neural_Network.sigmoidPrime = sigmoidPrime #agregar a clase como metodo de instancia / add it to class as instance method"
   ]
  },
  {
   "cell_type": "code",
   "execution_count": 19,
   "metadata": {},
   "outputs": [
    {
     "data": {
      "image/png": "[encoded data removed]",
      "text/plain": [
       "<Figure size 640x480 with 1 Axes>"
      ]
     },
     "metadata": {},
     "output_type": "display_data"
    }
   ],
   "source": [
    "#sigmoid prime should be largest where sigmoid is steepest (activation function), which is at x=0\n",
    "testValues = np.arange(-5, 5, 0.01)\n",
    "plt.plot(testValues, NN.sigmoid(testValues), linewidth = 2)\n",
    "plt.plot(testValues, NN.sigmoidPrime(testValues), linewidth = 2)\n",
    "plt.grid(1)\n",
    "plt.legend(['sigmoid', 'sigmoidPrime'])\n",
    "plt.show()"
   ]
  },
  {
   "cell_type": "code",
   "execution_count": 20,
   "metadata": {},
   "outputs": [],
   "source": [
    "def costFunction(self, X, y):\n",
    "    #Computar costo dados X,y, usando los pesos en la clase / Compute cost given X,y, using weights stored in class\n",
    "    self.yHat = self.forward(X)\n",
    "    J = 0.5*sum((y-self.yHat)**2)\n",
    "    return J\n",
    "\n",
    "Neural_Network.costFunction = costFunction  #agregar a clase como metodo de instancia / add it to class as instance method"
   ]
  },
  {
   "cell_type": "code",
   "execution_count": 21,
   "metadata": {},
   "outputs": [],
   "source": [
    "def costFunctionPrime(self, X, y):\n",
    "    # Cálculo de derivadas con respecto a W1 y W2 para X,y dados\n",
    "    # Compute the derivative with respecto to W1 and W2 for a given X,y\n",
    "    self.yHat = self.forward(X)\n",
    "    \n",
    "    delta3= np.multiply(-(y-self.yHat), self.sigmoidPrime(self.z3))\n",
    "    dJdW2 = np.dot(self.a2.T, delta3)\n",
    "    \n",
    "    delta2= np.dot(delta3, self.W2.T)*self.sigmoidPrime(self.z2)\n",
    "    dJdW1= np.dot(X.T, delta2)\n",
    "    return dJdW1, dJdW2\n",
    "    \n",
    "Neural_Network.costFunctionPrime = costFunctionPrime  #agregar a clase como metodo de instancia / add it to class as instance method"
   ]
  },
  {
   "cell_type": "code",
   "execution_count": 22,
   "metadata": {},
   "outputs": [
    {
     "name": "stdout",
     "output_type": "stream",
     "text": [
      "Costo inicial: [0.2447609]\n"
     ]
    }
   ],
   "source": [
    "#Calculamos los gradientes / Compute gradients \n",
    "NN = Neural_Network()\n",
    "dJdW1, dJdW2 = NN.costFunctionPrime(x,y)\n",
    "\n",
    "cost1 = NN.costFunction(x,y)\n",
    "print(f\"Costo inicial: {cost1}\")"
   ]
  },
  {
   "cell_type": "code",
   "execution_count": 23,
   "metadata": {},
   "outputs": [
    {
     "name": "stdout",
     "output_type": "stream",
     "text": [
      "Gradientes:  [[ 0.01338198  0.07260335 -0.06264475]\n",
      " [ 0.01062674  0.06011338 -0.04501166]] \n",
      " [[-0.17232529]\n",
      " [-0.14807042]\n",
      " [-0.13971555]]\n"
     ]
    }
   ],
   "source": [
    "print(\"Gradientes: \", dJdW1, \"\\n\", dJdW2)"
   ]
  },
  {
   "cell_type": "code",
   "execution_count": 24,
   "metadata": {},
   "outputs": [
    {
     "name": "stdout",
     "output_type": "stream",
     "text": [
      "[0.2447609] [0.33968992]\n"
     ]
    }
   ],
   "source": [
    "#Podemos incrementar el costo al sumar nuestra derivada a todos nuestros pesos con un escalar\n",
    "#Increase cost by adding our derivative *scalar to all our Weights \n",
    "scalar = 3\n",
    "NN.W1 = NN.W1 + scalar*dJdW1\n",
    "NN.W1 = NN.W1 + scalar*dJdW1\n",
    "\n",
    "cost2 = NN.costFunction(x,y)\n",
    "\n",
    "print(cost1, cost2)  #el costo incrementó / Cost increased"
   ]
  },
  {
   "cell_type": "code",
   "execution_count": 25,
   "metadata": {},
   "outputs": [
    {
     "name": "stdout",
     "output_type": "stream",
     "text": [
      "[0.2447609] [0.23943901]\n"
     ]
    }
   ],
   "source": [
    "#Podemos hacer lo opuesto al substraer el valor del gradiente a nuestros pesos.\n",
    "#We can do the opposite by substracting the value of the gradient to our Weights\n",
    "dJdW1, dJdW2 = NN.costFunctionPrime(x,y)\n",
    "\n",
    "NN.W1 = NN.W1 - scalar*dJdW1\n",
    "NN.W1 = NN.W1 - scalar*dJdW1\n",
    "\n",
    "cost3 = NN.costFunction(x,y)\n",
    "\n",
    "print(cost1, cost3)  #el costo disminuyó / Cost decreased"
   ]
  },
  {
   "cell_type": "markdown",
   "metadata": {},
   "source": [
    "### Este paso es el punto clave del algoritmo de **Gradient Descent**."
   ]
  },
  {
   "cell_type": "markdown",
   "metadata": {},
   "source": [
    "## [Parte 5: Verificación Numérica del Gradiente]\n",
    "\n",
    "Es dificil detectar errores en el cálculo de los gradientes, porque la red puede seguir funcionando con estos errores. Esto es uno de los problemas más comúnes al construir redes complejas.\n",
    "\n",
    "Para esto lo mejor es probar el código para la computación de gradientes, usando la **Verificación Numérica del Gradiente**.\n",
    "\n",
    "La **verificación numérica del gradiente** es una técnica para comprobar si el cálculo del gradiente en una red neuronal está implementado correctamente.\n",
    "\n",
    "#### ¿Cómo funciona?\n",
    "\n",
    "Se basa en la definición de derivada:\n",
    "\n",
    "$$ \n",
    "\\frac{\\partial J}{\\partial x} \\approx \\frac{J(x + \\epsilon) - J(x - \\epsilon)}{2\\epsilon} \n",
    "$$\n",
    "\n",
    "donde $ \\epsilon $ es un número muy pequeño (por ejemplo, $ 10^{-5} $).\n",
    "\n",
    "El procedimiento es el siguiente:\n",
    "\n",
    "1. **Tomamos un parámetro** $ x $ del modelo (como un peso de la red neuronal $ W $).\n",
    "2. **Calculamos la función de costo** dos veces:\n",
    "   - Una vez con $ x + \\epsilon $\n",
    "   - Otra con $ x - \\epsilon $\n",
    "3. **Usamos la ecuación anterior** para estimar el gradiente numérico.\n",
    "4. **Comparamos este gradiente con el que calculamos analíticamente** usando *backpropagation*.\n",
    "5. **Si son similares**, todo está bien. **Si son muy diferentes**, hay un error en la implementación del gradiente.\n",
    "\n"
   ]
  },
  {
   "cell_type": "code",
   "execution_count": 26,
   "metadata": {},
   "outputs": [],
   "source": [
    "#Ejemplo / Example\n",
    "def f(x):\n",
    "    return x**2"
   ]
  },
  {
   "cell_type": "code",
   "execution_count": 27,
   "metadata": {},
   "outputs": [],
   "source": [
    "epsilon = 1e-5\n",
    "xx = 1.5\n",
    "numericGradient = (f(xx+epsilon) - f(xx-epsilon))/(2*epsilon)  #aproximacion numerica/ numerical approximation"
   ]
  },
  {
   "cell_type": "code",
   "execution_count": 28,
   "metadata": {},
   "outputs": [
    {
     "data": {
      "text/plain": [
       "(3.000000000019653, 3.0)"
      ]
     },
     "execution_count": 28,
     "metadata": {},
     "output_type": "execute_result"
    }
   ],
   "source": [
    "# Comparar el resultado obtenido numericamente con el de la derivada simbolica (2x)\n",
    "# Compare the numerical result with the symbolic derivative (2x) \n",
    "numericGradient, 2*xx  # Los resultados deben ser similares / results should be similar"
   ]
  },
  {
   "cell_type": "markdown",
   "metadata": {},
   "source": [
    "### Esto es un ejemplo clave de como funciona la **verificación númerica del gradiente**"
   ]
  },
  {
   "cell_type": "code",
   "execution_count": 29,
   "metadata": {},
   "outputs": [],
   "source": [
    "# funciones de ayuda en la clase NN para interactuar con otros metodos/clases\n",
    "# Helper functions in NN class for interacting with other methods/classes\n",
    "\n",
    "def getParams(self):\n",
    "    # Convertir W1 y W2 en un vector\n",
    "    # Get W1 andf W2 as vector\n",
    "    params = np.concatenate((self.W1.ravel(), self.W2.ravel()))\n",
    "    return params\n",
    "\n",
    "def setParams(self, params):\n",
    "    # Set W1 y W2 usando un solo vector de parametros\n",
    "    # Set W1 and W2 using single parameter vector\n",
    "    W1_start = 0\n",
    "    W1_end = self.hiddenLayerSize * self.inputLayerSize\n",
    "    self.W1 = np.reshape(params[W1_start:W1_end],\n",
    "                         (self.inputLayerSize, self.hiddenLayerSize))\n",
    "    W2_end = W1_end + self.hiddenLayerSize * self.outputLayerSize\n",
    "    self.W2 = np.reshape(params[W1_end:W2_end],\n",
    "                         (self.hiddenLayerSize, self.outputLayerSize))\n",
    "    \n",
    "def computeGradients(self, X, y):\n",
    "    dJdW1, dJdW2 = self.costFunctionPrime(X,y)\n",
    "    return np.concatenate((dJdW1.ravel(), dJdW2.ravel()))\n",
    "\n",
    "Neural_Network.getParams = getParams  #agregar a clase como metodo de instancia / add it to class as instance method\n",
    "Neural_Network.setParams = setParams  #agregar a clase como metodo de instancia / add it to class as instance method\n",
    "Neural_Network.computeGradients = computeGradients  #agregar a clase como metodo de instancia / add it to class as instance method"
   ]
  },
  {
   "cell_type": "code",
   "execution_count": 30,
   "metadata": {},
   "outputs": [],
   "source": [
    "# Funcion para verificar numericamente el gradiente\n",
    "# Function to compute the numerical gradient for checking\n",
    "\n",
    "def computeNumericalGradient(N, X, y):\n",
    "    paramsInitial = N.getParams()\n",
    "    numgrad = np.zeros(paramsInitial.shape)\n",
    "    perturb = np.zeros(paramsInitial.shape)\n",
    "    e = 1e-5\n",
    "\n",
    "    for p in range(len(paramsInitial)):\n",
    "        perturb[p] = e\n",
    "        N.setParams(paramsInitial + perturb)\n",
    "        loss2 = N.costFunction(x,y)\n",
    "\n",
    "        N.setParams(paramsInitial - perturb)\n",
    "        loss1 = N.costFunction(X,y)\n",
    "\n",
    "        #Calculamos gradiente numérico / compute numerical gradient or slope between two loss values\n",
    "        numgrad[p] = (loss2-loss1) / (2*e)\n",
    "\n",
    "        perturb[p] = 0\n",
    "\n",
    "    #Regresamos los Parametros al valor original / return Params to original value\n",
    "    N.setParams(paramsInitial)\n",
    "\n",
    "    return numgrad"
   ]
  },
  {
   "cell_type": "code",
   "execution_count": 31,
   "metadata": {},
   "outputs": [],
   "source": [
    "NN = Neural_Network()"
   ]
  },
  {
   "cell_type": "code",
   "execution_count": 32,
   "metadata": {},
   "outputs": [
    {
     "name": "stderr",
     "output_type": "stream",
     "text": [
      "C:\\Users\\a.camposperez\\AppData\\Local\\Temp\\ipykernel_32036\\3327139446.py:19: DeprecationWarning: Conversion of an array with ndim > 0 to a scalar is deprecated, and will error in future. Ensure you extract a single element from your array before performing this operation. (Deprecated NumPy 1.25.)\n",
      "  numgrad[p] = (loss2-loss1) / (2*e)\n"
     ]
    }
   ],
   "source": [
    "numgrad = computeNumericalGradient(NN, x, y) #numerical gradient / gradiente calcuado numéricamente\n",
    "\n",
    "grad = NN.computeGradients(x,y) # gradiente calculado con derivadas / derivative gradient"
   ]
  },
  {
   "cell_type": "code",
   "execution_count": null,
   "metadata": {},
   "outputs": [
    {
     "data": {
      "text/plain": [
       "array([ 0.03912465,  0.05411166, -0.00919722,  0.03217507,  0.04390231,\n",
       "       -0.00474861, -0.11390458, -0.10603956, -0.26900748])"
      ]
     },
     "execution_count": 33,
     "metadata": {},
     "output_type": "execute_result"
    }
   ],
   "source": [
    "numgrad #gradiente calculado numéricamente / numerical gradient"
   ]
  },
  {
   "cell_type": "code",
   "execution_count": null,
   "metadata": {},
   "outputs": [
    {
     "data": {
      "text/plain": [
       "array([ 0.03912465,  0.05411166, -0.00919722,  0.03217507,  0.04390231,\n",
       "       -0.00474861, -0.11390458, -0.10603956, -0.26900748])"
      ]
     },
     "execution_count": 34,
     "metadata": {},
     "output_type": "execute_result"
    }
   ],
   "source": [
    "grad  #gradiente calculado con la derivada / derivative gradient"
   ]
  },
  {
   "cell_type": "code",
   "execution_count": 37,
   "metadata": {},
   "outputs": [
    {
     "data": {
      "text/plain": [
       "1.5584229910385458e-11"
      ]
     },
     "execution_count": 37,
     "metadata": {},
     "output_type": "execute_result"
    }
   ],
   "source": [
    "# Compara la similitud entre ambos gradientes, un resultado del orden de 1e-8 indica que los gradientes estan siendo correctamente calculados\n",
    "# Compare similitude between both gradients, small number (1e-8) indicates the gradients are being correctly calculated\n",
    "np.linalg.norm(grad - numgrad) / np.linalg.norm(grad + numgrad)"
   ]
  },
  {
   "cell_type": "markdown",
   "metadata": {},
   "source": [
    "## [Parte 6: Entrenamiento de la Red]\n",
    "\n",
    "Vamos a entrenar nuestra red usando **Gradient Descent**. La implementación de este algoritmo puede ser compleja al aumentar el número de unidades por capa y el número de capas en la Red. \n",
    "\n",
    "Podemos encontrar los siguientes problemas con Gradient Descent si solo avanzamos cuesta abajo con pasos del mismo tamaño:\n",
    "1. Quedarnos atascados en un mínimo local\n",
    "2. Quedarnos atascados en un lugar plano\n",
    "3. Nos movemos demasiado lento y nunca llegamos al mínimo\n",
    "4. O nos movemos muy rápido y nos salimos del mínimo\n",
    "\n",
    "<img src=\"ANN31.png\" width=\"500\">\n",
    "\n",
    "El algoritmo de Gradient Descent, si bien es muy poderoso, no garantiza que va a converger en una buena solución, en una solución en $ x $ número de iteraciones o encontrar una solución.\n",
    "\n",
    "Por esto es importante optimizar la función. Nosotros usaremos:\n",
    "\n",
    "El algoritmo de optimización **Quasi-Newton (BFGS)** es una técnica iterativa utilizada para encontrar los mínimos de funciones no lineales. Es un algoritmo de optimización de segundo orden, lo que significa que utiliza información sobre la segunda derivada (o sus aproximaciones) de la función objetivo para mejorar la búsqueda de la solución óptima. Es decir, estimaremos la segunda derivada o curvatura de la función de costo, y con esta información haremos \"movimientos\" más informados cuesta-abajo (*downhill*). ***Esto nos permite encontrar más soluciones y más rápido que el algoritmo básico de Gradient Descent.***"
   ]
  },
  {
   "cell_type": "code",
   "execution_count": 43,
   "metadata": {},
   "outputs": [],
   "source": [
    "class trainer(object):\n",
    "    def __init__(self, N):\n",
    "        self.N = N #referencia local a Neural Network\n",
    "\n",
    "    def costFunctionWrapper(self, params, X, y):\n",
    "        self.N.setParams(params)\n",
    "        cost = self.N.costFunction(X,y)\n",
    "        grad = self.N.computeGradients(X,y)\n",
    "        return cost, grad\n",
    "    \n",
    "    def callbackF(self, params):\n",
    "        self.N.setParams(params)\n",
    "        self.J.append(self.N.costFunction(self.X, self.y))\n",
    "    \n",
    "    def train(self, X,y):\n",
    "        self.X = X\n",
    "        self.y = y\n",
    "\n",
    "        self.J = []\n",
    "\n",
    "        params0 = self.N.getParams()\n",
    "\n",
    "        options = {'maxiter':200, 'disp': True}\n",
    "        _res = optimize.minimize(self.costFunctionWrapper, params0,\n",
    "                                 jac = True, method = 'BFGS', args = (X,y),\n",
    "                                 options= options, callback = self.callbackF)\n",
    "        \n",
    "        #Actualizar parametros random con los entrenados\n",
    "        #Replace random parameters with trained parameters\n",
    "        self.N.setParams(_res.x)\n",
    "        self.optimizationResults = _res"
   ]
  },
  {
   "cell_type": "code",
   "execution_count": 44,
   "metadata": {},
   "outputs": [],
   "source": [
    "NN = Neural_Network()"
   ]
  },
  {
   "cell_type": "code",
   "execution_count": 45,
   "metadata": {},
   "outputs": [],
   "source": [
    "T = trainer(NN)"
   ]
  },
  {
   "cell_type": "code",
   "execution_count": 46,
   "metadata": {},
   "outputs": [
    {
     "name": "stdout",
     "output_type": "stream",
     "text": [
      "Optimization terminated successfully.\n",
      "         Current function value: 0.000000\n",
      "         Iterations: 36\n",
      "         Function evaluations: 40\n",
      "         Gradient evaluations: 40\n"
     ]
    }
   ],
   "source": [
    "T.train(x,y)"
   ]
  },
  {
   "cell_type": "code",
   "execution_count": null,
   "metadata": {},
   "outputs": [
    {
     "data": {
      "text/plain": [
       "Text(0.5, 0, 'Iterations')"
      ]
     },
     "execution_count": 49,
     "metadata": {},
     "output_type": "execute_result"
    },
    {
     "data": {
      "image/png": "[encoded data removed]",
      "text/plain": [
       "<Figure size 640x480 with 1 Axes>"
      ]
     },
     "metadata": {},
     "output_type": "display_data"
    }
   ],
   "source": [
    "plt.plot(T.J, '--', color = 'black')\n",
    "plt.grid(1)\n",
    "plt.ylabel('Cost')\n",
    "plt.xlabel('Iterations') # aqui podemos ver cuantas iteraciones necesitamos para llegar al costo minimo (ie la solucion)"
   ]
  },
  {
   "cell_type": "code",
   "execution_count": null,
   "metadata": {},
   "outputs": [
    {
     "data": {
      "text/plain": [
       "(array([[-3.11968819e-06, -7.74496228e-07,  2.65046704e-06],\n",
       "        [-2.05912637e-06, -4.68155122e-07,  1.81581417e-06]]),\n",
       " array([[2.36869903e-06],\n",
       "        [5.21092857e-06],\n",
       "        [6.69989631e-06]]))"
      ]
     },
     "execution_count": 50,
     "metadata": {},
     "output_type": "execute_result"
    }
   ],
   "source": [
    "NN.costFunctionPrime(x,y)  #valores de costo pequenios"
   ]
  },
  {
   "cell_type": "code",
   "execution_count": 51,
   "metadata": {},
   "outputs": [
    {
     "data": {
      "text/plain": [
       "array([[0.75000614],\n",
       "       [0.82005222],\n",
       "       [0.92999601]])"
      ]
     },
     "execution_count": 51,
     "metadata": {},
     "output_type": "execute_result"
    }
   ],
   "source": [
    "# La red esta entrenada para predecir la calificación que se sacará basado en las horas de dormir y de estudiar\n",
    "# The ANN is trained to predict the score you will get based on how many hours you slept and studied\n",
    "NN.forward(x)"
   ]
  },
  {
   "cell_type": "code",
   "execution_count": null,
   "metadata": {},
   "outputs": [
    {
     "data": {
      "text/plain": [
       "array([[0.75],\n",
       "       [0.82],\n",
       "       [0.93]])"
      ]
     },
     "execution_count": 52,
     "metadata": {},
     "output_type": "execute_result"
    }
   ],
   "source": [
    "y  #Podemos ver que los resultados son muy cercanos a la realidad"
   ]
  },
  {
   "cell_type": "markdown",
   "metadata": {},
   "source": [
    "Vamos a poner a prueba la Red con varias combinaciones de horas de sueño y de estudio:"
   ]
  },
  {
   "cell_type": "code",
   "execution_count": 53,
   "metadata": {},
   "outputs": [],
   "source": [
    "hoursSleep = np.linspace(0,10, 100)\n",
    "hoursStudy = np.linspace(0,5, 100)\n",
    "\n",
    "#Normalizamos la data\n",
    "hoursSleepNorm = hoursSleep/10.\n",
    "hoursStudyNorm = hoursStudy/5.\n",
    "\n",
    "a, b = np.meshgrid(hoursSleepNorm, hoursStudyNorm)\n",
    "\n",
    "allInputs = np.zeros((a.size, 2))\n",
    "allInputs[:, 0] = a.ravel()\n",
    "allInputs[:,1] = b.ravel()"
   ]
  },
  {
   "cell_type": "code",
   "execution_count": 54,
   "metadata": {},
   "outputs": [],
   "source": [
    "allOutputs = NN.forward(allInputs)"
   ]
  },
  {
   "cell_type": "code",
   "execution_count": null,
   "metadata": {},
   "outputs": [
    {
     "data": {
      "text/plain": [
       "Text(0.5, 0, 'Test Score')"
      ]
     },
     "execution_count": 58,
     "metadata": {},
     "output_type": "execute_result"
    },
    {
     "data": {
      "text/plain": [
       "<Figure size 640x480 with 0 Axes>"
      ]
     },
     "metadata": {},
     "output_type": "display_data"
    },
    {
     "data": {
      "image/png": "[encoded data removed]",
      "text/plain": [
       "<Figure size 640x480 with 1 Axes>"
      ]
     },
     "metadata": {},
     "output_type": "display_data"
    }
   ],
   "source": [
    "#3d plot\n",
    "\n",
    "yy = np.dot(hoursStudy.reshape(100,1), np.ones((1,100)))\n",
    "xx = np.dot(hoursSleep.reshape(100,1), np.ones((1,100))).T\n",
    "\n",
    "from mpl_toolkits.mplot3d import Axes3D\n",
    "\n",
    "%matplotlib qt\n",
    "#%matplotlib inline\n",
    "\n",
    "fig = plt.figure()\n",
    "ax = fig.add_subplot(111, projection='3d')  # Corrected this line\n",
    "\n",
    "surf = ax.plot_surface(xx, yy, 100 * allOutputs.reshape(100,100), cmap='gist_rainbow')\n",
    "\n",
    "ax.set_xlabel('Hours Sleep')\n",
    "ax.set_ylabel('Hours Study')\n",
    "ax.set_zlabel('Test Score')"
   ]
  },
  {
   "cell_type": "markdown",
   "metadata": {},
   "source": [
    "## [Parte 7: Overfitting]"
   ]
  },
  {
   "cell_type": "markdown",
   "metadata": {},
   "source": []
  }
 ],
 "metadata": {
  "kernelspec": {
   "display_name": "base",
   "language": "python",
   "name": "python3"
  },
  "language_info": {
   "codemirror_mode": {
    "name": "ipython",
    "version": 3
   },
   "file_extension": ".py",
   "mimetype": "text/x-python",
   "name": "python",
   "nbconvert_exporter": "python",
   "pygments_lexer": "ipython3",
   "version": "3.12.4"
  }
 },
 "nbformat": 4,
 "nbformat_minor": 4
}
